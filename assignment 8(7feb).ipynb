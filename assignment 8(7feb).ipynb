{
 "cells": [
  {
   "cell_type": "code",
   "execution_count": null,
   "id": "2b37ec24-a4f3-4480-9750-6b157a6504a4",
   "metadata": {},
   "outputs": [],
   "source": []
  },
  {
   "cell_type": "code",
   "execution_count": null,
   "id": "739b3595-152c-42d0-9229-7b1d8f0a391d",
   "metadata": {},
   "outputs": [],
   "source": [
    "Q1. You are writing code for a company. The requirement of the company is that you create a python\n",
    "function that will check whether the password entered by the user is correct or not. The function should\n",
    "take the password as input and return the string “Valid Password” if the entered password follows the\n",
    "below-given password guidelines else it should return “Invalid Password”.\n",
    "Note: 1. The Password should contain at least two uppercase letters and at least two lowercase letters.\n",
    "2. The Password should contain at least a number and three special characters.\n",
    "3. The length of the password should be 10 characters long.\n"
   ]
  },
  {
   "cell_type": "code",
   "execution_count": 7,
   "id": "db1b7663-f1d3-4c56-8a2b-287b225f5d49",
   "metadata": {},
   "outputs": [
    {
     "name": "stdin",
     "output_type": "stream",
     "text": [
      "Enter your password:  SErit@#$1\n"
     ]
    }
   ],
   "source": [
    "pasd = input (\"Enter your password: \")\n"
   ]
  },
  {
   "cell_type": "code",
   "execution_count": 10,
   "id": "53658ea1-216c-46b6-8e97-bc4015eef887",
   "metadata": {},
   "outputs": [],
   "source": [
    "def password_checker(pas):\n",
    "    if len(pas) >=10:\n",
    "        l1,l2,l3,l4 = [],[],[],[]\n",
    "        s = '[@_!#$%^&*()<>?/\\|}{~:]'\n",
    "        for i in pas:\n",
    "            if i.isupper():\n",
    "                l1.append(i)\n",
    "            elif i.islower():\n",
    "                l2.append(i)\n",
    "            elif i.isnumeric():\n",
    "                l3.append(i)\n",
    "            elif i in s:\n",
    "                l4.append(i)\n",
    "        if len(l1)>=2 and len(l2)>=2 and len(l3)>=1 and len(l4)>=3:\n",
    "            print(\"Valid password!\")\n",
    "        else :\n",
    "            print(\"Invalid password!\")\n",
    "    else :\n",
    "        print(\"Invalid password!\",\"Add some more characters\")"
   ]
  },
  {
   "cell_type": "code",
   "execution_count": 11,
   "id": "50753dc3-53f4-47c0-af01-3d0a3db4ad11",
   "metadata": {},
   "outputs": [
    {
     "name": "stdout",
     "output_type": "stream",
     "text": [
      "Invalid password! Add some more characters\n"
     ]
    }
   ],
   "source": [
    "password_checker(pasd)"
   ]
  },
  {
   "cell_type": "code",
   "execution_count": null,
   "id": "2c00b07b-057b-4607-a0b1-10c2254ee967",
   "metadata": {},
   "outputs": [],
   "source": [
    "Q2. Solve the below-given questions using at least one of the following:\n",
    "1. Lambda functioJ\n",
    "2. Filter functioJ\n",
    "3. Zap functioJ\n",
    "4. List ComprehensioI\n",
    "B Check if the string starts with a particular letterY\n",
    "B Check if the string is numericY\n",
    "B Sort a list of tuples having fruit names and their quantity. [(\"mango\",99),(\"orange\",80), (\"grapes\", 1000)-\n",
    "B Find the squares of numbers from 1 to 10Y\n",
    "B Find the cube root of numbers from 1 to 10Y\n",
    "B Check if a given number is evenY\n",
    "B Filter odd numbers from the given list.\n",
    "[1,2,3,4,5,6,7,8,9,10-\n",
    "B Sort a list of integers into positive and negative integers lists.\n",
    "[1,2,3,4,5,6,-1,-2,-3,-4,-5,0]"
   ]
  },
  {
   "cell_type": "code",
   "execution_count": 1,
   "id": "0c5d1059-484b-4667-bdee-6c145cf42cc3",
   "metadata": {},
   "outputs": [
    {
     "data": {
      "text/plain": [
       "True"
      ]
     },
     "execution_count": 1,
     "metadata": {},
     "output_type": "execute_result"
    }
   ],
   "source": [
    "# string starts with particular letter\n",
    "start_with = lambda c : True if c.startswith(\"S\") else False\n",
    "(start_with(\"Sumit\"))\n"
   ]
  },
  {
   "cell_type": "code",
   "execution_count": 2,
   "id": "4a871621-72ff-4677-bffd-4a298846a984",
   "metadata": {},
   "outputs": [
    {
     "data": {
      "text/plain": [
       "True"
      ]
     },
     "execution_count": 2,
     "metadata": {},
     "output_type": "execute_result"
    }
   ],
   "source": [
    "# string is numeric\n",
    "string_numeric = lambda s : True if s.isnumeric() else False\n",
    "string_numeric(\"12684135\")\n"
   ]
  },
  {
   "cell_type": "code",
   "execution_count": 3,
   "id": "971e6a14-8368-48dc-ae55-33e15206bde8",
   "metadata": {},
   "outputs": [
    {
     "name": "stdout",
     "output_type": "stream",
     "text": [
      "[('grapes', 1000), ('mango', 99), ('orange', 80)]\n",
      "[('orange', 80), ('mango', 99), ('grapes', 1000)]\n"
     ]
    }
   ],
   "source": [
    "# sorting of list of tuple\n",
    "lis = [(\"mango\",99),(\"orange\",80), (\"grapes\", 1000)]\n",
    "print(sorted(lis))  # sorted alphabetical order\n",
    "lis.sort(key=lambda a:a[1])  # sorted based on numeric data\n",
    "print(lis)"
   ]
  },
  {
   "cell_type": "code",
   "execution_count": 4,
   "id": "ce0b9965-d63f-4e1d-8749-7d6e94e58d82",
   "metadata": {},
   "outputs": [
    {
     "name": "stdout",
     "output_type": "stream",
     "text": [
      "1\n",
      "4\n",
      "9\n",
      "16\n",
      "25\n",
      "36\n",
      "49\n",
      "64\n",
      "81\n",
      "100\n"
     ]
    }
   ],
   "source": [
    "# squares of numbers\n",
    "square = lambda s : s**2\n",
    "for i in range(1,11):\n",
    "    print(square(i))"
   ]
  },
  {
   "cell_type": "code",
   "execution_count": 5,
   "id": "7c6e9dfe-432f-465d-aecd-85f8abf87c79",
   "metadata": {},
   "outputs": [
    {
     "name": "stdout",
     "output_type": "stream",
     "text": [
      "1.0\n",
      "1.2599210498948732\n",
      "1.4422495703074083\n",
      "1.5874010519681994\n",
      "1.7099759466766968\n",
      "1.8171205928321397\n",
      "1.912931182772389\n",
      "2.0\n",
      "2.080083823051904\n",
      "2.154434690031884\n"
     ]
    }
   ],
   "source": [
    "# cube roots of numbers \n",
    "cube_root = lambda s : s**(1/3)\n",
    "for i in range(1,11):\n",
    "    print(cube_root(i))"
   ]
  },
  {
   "cell_type": "code",
   "execution_count": 6,
   "id": "0748a53a-7bac-4f6f-aabd-ea0e5cab4aa4",
   "metadata": {},
   "outputs": [
    {
     "name": "stdout",
     "output_type": "stream",
     "text": [
      "True\n"
     ]
    }
   ],
   "source": [
    "# check given number is even\n",
    "even_check = lambda x : True if x%2==0 else False\n",
    "print(even_check(10))"
   ]
  },
  {
   "cell_type": "code",
   "execution_count": 7,
   "id": "2271c35a-65d9-4d7e-b8c8-26d24f896898",
   "metadata": {},
   "outputs": [
    {
     "name": "stdout",
     "output_type": "stream",
     "text": [
      "[1, 3, 5, 7, 9]\n"
     ]
    }
   ],
   "source": [
    "# Filter odd numbers from the given list.\n",
    "lsi =[1,2,3,4,5,6,7,8,9,10]\n",
    "l = filter(lambda a: a%2!=0 ,lsi)\n",
    "print(list(l))"
   ]
  },
  {
   "cell_type": "code",
   "execution_count": 8,
   "id": "89eb1daa-1bdf-487f-8f1e-02ae48dd781e",
   "metadata": {},
   "outputs": [
    {
     "name": "stdout",
     "output_type": "stream",
     "text": [
      "[0, 1, 2, 3, 4, 5, 6]\n",
      "[-5, -4, -3, -2, -1]\n"
     ]
    }
   ],
   "source": [
    "# Sort a list of integers into positive and negative integers lists.\n",
    "lis1 = [1,2,3,4,5,6,-1,-2,-3,-4,-5,0]\n",
    "lis = sorted(lis1)\n",
    "x = list(filter(lambda s: s>=0, lis))\n",
    "y = list(filter(lambda x: x<0 , lis))\n",
    "print(x)\n",
    "print(y)"
   ]
  },
  {
   "cell_type": "code",
   "execution_count": null,
   "id": "9f819915-9b08-43c1-9203-598961a39992",
   "metadata": {},
   "outputs": [],
   "source": []
  }
 ],
 "metadata": {
  "kernelspec": {
   "display_name": "Python 3 (ipykernel)",
   "language": "python",
   "name": "python3"
  },
  "language_info": {
   "codemirror_mode": {
    "name": "ipython",
    "version": 3
   },
   "file_extension": ".py",
   "mimetype": "text/x-python",
   "name": "python",
   "nbconvert_exporter": "python",
   "pygments_lexer": "ipython3",
   "version": "3.10.8"
  }
 },
 "nbformat": 4,
 "nbformat_minor": 5
}
